{
 "cells": [
  {
   "cell_type": "code",
   "execution_count": 8,
   "metadata": {
    "editable": true
   },
   "outputs": [],
   "source": [
    "from pyspark.sql import SparkSession\n",
    "spark = SparkSession.builder.appName(\"data_inspection\").getOrCreate()\n",
    "\n",
    "\n",
    "calls_file = \"police-department-calls-for-service.json\"\n",
    "df_calls = spark.read.option(\"multiLine\", True).json(calls_file)"
   ]
  },
  {
   "cell_type": "code",
   "execution_count": 9,
   "metadata": {
    "editable": true
   },
   "outputs": [
    {
     "name": "stdout",
     "output_type": "stream",
     "text": [
      "root\n",
      " |-- address: string (nullable = true)\n",
      " |-- address_type: string (nullable = true)\n",
      " |-- agency_id: string (nullable = true)\n",
      " |-- call_date: string (nullable = true)\n",
      " |-- call_date_time: string (nullable = true)\n",
      " |-- call_time: string (nullable = true)\n",
      " |-- city: string (nullable = true)\n",
      " |-- common_location: string (nullable = true)\n",
      " |-- crime_id: string (nullable = true)\n",
      " |-- disposition: string (nullable = true)\n",
      " |-- offense_date: string (nullable = true)\n",
      " |-- original_crime_type_name: string (nullable = true)\n",
      " |-- report_date: string (nullable = true)\n",
      " |-- state: string (nullable = true)\n",
      "\n"
     ]
    }
   ],
   "source": [
    "df_calls.printSchema()"
   ]
  },
  {
   "cell_type": "code",
   "execution_count": 10,
   "metadata": {
    "editable": true
   },
   "outputs": [
    {
     "data": {
      "text/plain": [
       "199999"
      ]
     },
     "execution_count": 10,
     "metadata": {},
     "output_type": "execute_result"
    }
   ],
   "source": [
    "df_calls.count()"
   ]
  },
  {
   "cell_type": "code",
   "execution_count": 11,
   "metadata": {
    "editable": true
   },
   "outputs": [],
   "source": [
    "code_file = \"radio_code.json\"\n",
    "df_code = spark.read.option(\"multiLine\", True).json(code_file)"
   ]
  },
  {
   "cell_type": "code",
   "execution_count": 12,
   "metadata": {
    "editable": true
   },
   "outputs": [
    {
     "name": "stdout",
     "output_type": "stream",
     "text": [
      "root\n",
      " |-- description: string (nullable = true)\n",
      " |-- disposition_code: string (nullable = true)\n",
      "\n"
     ]
    }
   ],
   "source": [
    "df_code.printSchema()"
   ]
  },
  {
   "cell_type": "code",
   "execution_count": null,
   "metadata": {
    "editable": true
   },
   "outputs": [],
   "source": []
  }
 ],
 "metadata": {
  "kernelspec": {
   "display_name": "Python 3",
   "language": "python",
   "name": "python3"
  },
  "language_info": {
   "codemirror_mode": {
    "name": "ipython",
    "version": 3
   },
   "file_extension": ".py",
   "mimetype": "text/x-python",
   "name": "python",
   "nbconvert_exporter": "python",
   "pygments_lexer": "ipython3",
   "version": "3.7.3"
  }
 },
 "nbformat": 4,
 "nbformat_minor": 4
}
